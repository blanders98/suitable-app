{
 "cells": [
  {
   "cell_type": "code",
   "execution_count": 1,
   "id": "0748a83e",
   "metadata": {
    "vscode": {
     "languageId": "plaintext"
    }
   },
   "outputs": [],
   "source": [
    "# Install required packages if needed\n",
    "# !pip install geopandas pandas numpy matplotlib folium ipywidgets ipyleaflet\n",
    "\n",
    "# Import libraries\n",
    "import sys\n",
    "import os\n",
    "\n",
    "# Add the parent directory to the path if running from notebooks/\n",
    "module_path = os.path.abspath(os.path.join('..'))\n",
    "if module_path not in sys.path:\n",
    "    sys.path.append(module_path)\n",
    "\n",
    "# Import the main app\n",
    "from app import SuitableApp"
   ]
  },
  {
   "cell_type": "code",
   "execution_count": 2,
   "id": "f98fb692",
   "metadata": {
    "vscode": {
     "languageId": "plaintext"
    }
   },
   "outputs": [
    {
     "data": {
      "application/vnd.jupyter.widget-view+json": {
       "model_id": "c33a4a9ae0134757a175b730bcd33290",
       "version_major": 2,
       "version_minor": 0
      },
      "text/plain": [
       "HTML(value='<h1>Suitable: Interactive Suitability Analysis Tool</h1>')"
      ]
     },
     "metadata": {},
     "output_type": "display_data"
    },
    {
     "data": {
      "application/vnd.jupyter.widget-view+json": {
       "model_id": "8c2aee42d4d64c24845cd4e2298e47b4",
       "version_major": 2,
       "version_minor": 0
      },
      "text/plain": [
       "VBox(children=(VBox(children=(HTML(value='<h2>Suitability Analysis Project</h2>'), Text(value='Suitability Ana…"
      ]
     },
     "metadata": {},
     "output_type": "display_data"
    }
   ],
   "source": [
    "# Create and display the application\n",
    "app = SuitableApp()\n",
    "app.display()"
   ]
  },
  {
   "cell_type": "code",
   "execution_count": null,
   "id": "f81e03af-2881-4598-a2b5-b637537f0e0f",
   "metadata": {},
   "outputs": [],
   "source": []
  }
 ],
 "metadata": {
  "kernelspec": {
   "display_name": "Python 3 (ipykernel)",
   "language": "python",
   "name": "python3"
  },
  "language_info": {
   "codemirror_mode": {
    "name": "ipython",
    "version": 3
   },
   "file_extension": ".py",
   "mimetype": "text/x-python",
   "name": "python",
   "nbconvert_exporter": "python",
   "pygments_lexer": "ipython3",
   "version": "3.12.3"
  }
 },
 "nbformat": 4,
 "nbformat_minor": 5
}
